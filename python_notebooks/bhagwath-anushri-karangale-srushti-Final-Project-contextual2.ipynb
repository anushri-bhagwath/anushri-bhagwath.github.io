{
 "cells": [
  {
   "cell_type": "markdown",
   "id": "f1eb67d9",
   "metadata": {},
   "source": [
    "# Contextual Visual 2"
   ]
  },
  {
   "cell_type": "markdown",
   "id": "56a7a432",
   "metadata": {},
   "source": [
    "Group 7"
   ]
  },
  {
   "cell_type": "markdown",
   "id": "0ac4ebff",
   "metadata": {},
   "source": [
    "Group Members: Anushri Bhagwath- anushri5, Srushti Karangale- shk10"
   ]
  },
  {
   "cell_type": "code",
   "execution_count": 1,
   "id": "320731ae",
   "metadata": {},
   "outputs": [],
   "source": [
    "#importing the required libraries\n",
    "import pandas as pd\n",
    "import matplotlib.pyplot as plt\n",
    "import altair as alt"
   ]
  },
  {
   "cell_type": "markdown",
   "id": "dead950d",
   "metadata": {},
   "source": [
    "For this contexual visual we are using NCHS - Leading Causes of Death: United States dataset and a detailed information about the dataset can be found using the link https://catalog.data.gov/dataset/nchs-leading-causes-of-death-united-states. We have used this dataset in a csv format and its link is https://data.cdc.gov/api/views/bi63-dtpu/rows.csv?accessType=DOWNLOAD .This dataset provides data regarding age-adjusted death rates, number of deaths for the 10 leading causes of death in the United States beginning in 1999. We have used this dataset to visualize the average deaths in New York City based on the different causes of deaths between the years 2010 and 2015."
   ]
  },
  {
   "cell_type": "code",
   "execution_count": 2,
   "id": "d2ee56bf",
   "metadata": {},
   "outputs": [],
   "source": [
    "# Reading the NCHS - Leading Causes of Death: United States data\n",
    "NCHS_survey_data = pd.read_csv('https://data.cdc.gov/api/views/bi63-dtpu/rows.csv?accessType=DOWNLOAD').dropna()"
   ]
  },
  {
   "cell_type": "code",
   "execution_count": 3,
   "id": "559dbd04",
   "metadata": {},
   "outputs": [
    {
     "data": {
      "text/html": [
       "<div>\n",
       "<style scoped>\n",
       "    .dataframe tbody tr th:only-of-type {\n",
       "        vertical-align: middle;\n",
       "    }\n",
       "\n",
       "    .dataframe tbody tr th {\n",
       "        vertical-align: top;\n",
       "    }\n",
       "\n",
       "    .dataframe thead th {\n",
       "        text-align: right;\n",
       "    }\n",
       "</style>\n",
       "<table border=\"1\" class=\"dataframe\">\n",
       "  <thead>\n",
       "    <tr style=\"text-align: right;\">\n",
       "      <th></th>\n",
       "      <th>Year</th>\n",
       "      <th>113 Cause Name</th>\n",
       "      <th>Cause Name</th>\n",
       "      <th>State</th>\n",
       "      <th>Deaths</th>\n",
       "      <th>Age-adjusted Death Rate</th>\n",
       "    </tr>\n",
       "  </thead>\n",
       "  <tbody>\n",
       "    <tr>\n",
       "      <th>0</th>\n",
       "      <td>2017</td>\n",
       "      <td>Accidents (unintentional injuries) (V01-X59,Y8...</td>\n",
       "      <td>Unintentional injuries</td>\n",
       "      <td>United States</td>\n",
       "      <td>169936</td>\n",
       "      <td>49.4</td>\n",
       "    </tr>\n",
       "    <tr>\n",
       "      <th>1</th>\n",
       "      <td>2017</td>\n",
       "      <td>Accidents (unintentional injuries) (V01-X59,Y8...</td>\n",
       "      <td>Unintentional injuries</td>\n",
       "      <td>Alabama</td>\n",
       "      <td>2703</td>\n",
       "      <td>53.8</td>\n",
       "    </tr>\n",
       "    <tr>\n",
       "      <th>2</th>\n",
       "      <td>2017</td>\n",
       "      <td>Accidents (unintentional injuries) (V01-X59,Y8...</td>\n",
       "      <td>Unintentional injuries</td>\n",
       "      <td>Alaska</td>\n",
       "      <td>436</td>\n",
       "      <td>63.7</td>\n",
       "    </tr>\n",
       "    <tr>\n",
       "      <th>3</th>\n",
       "      <td>2017</td>\n",
       "      <td>Accidents (unintentional injuries) (V01-X59,Y8...</td>\n",
       "      <td>Unintentional injuries</td>\n",
       "      <td>Arizona</td>\n",
       "      <td>4184</td>\n",
       "      <td>56.2</td>\n",
       "    </tr>\n",
       "    <tr>\n",
       "      <th>4</th>\n",
       "      <td>2017</td>\n",
       "      <td>Accidents (unintentional injuries) (V01-X59,Y8...</td>\n",
       "      <td>Unintentional injuries</td>\n",
       "      <td>Arkansas</td>\n",
       "      <td>1625</td>\n",
       "      <td>51.8</td>\n",
       "    </tr>\n",
       "  </tbody>\n",
       "</table>\n",
       "</div>"
      ],
      "text/plain": [
       "   Year                                     113 Cause Name  \\\n",
       "0  2017  Accidents (unintentional injuries) (V01-X59,Y8...   \n",
       "1  2017  Accidents (unintentional injuries) (V01-X59,Y8...   \n",
       "2  2017  Accidents (unintentional injuries) (V01-X59,Y8...   \n",
       "3  2017  Accidents (unintentional injuries) (V01-X59,Y8...   \n",
       "4  2017  Accidents (unintentional injuries) (V01-X59,Y8...   \n",
       "\n",
       "               Cause Name          State  Deaths  Age-adjusted Death Rate  \n",
       "0  Unintentional injuries  United States  169936                     49.4  \n",
       "1  Unintentional injuries        Alabama    2703                     53.8  \n",
       "2  Unintentional injuries         Alaska     436                     63.7  \n",
       "3  Unintentional injuries        Arizona    4184                     56.2  \n",
       "4  Unintentional injuries       Arkansas    1625                     51.8  "
      ]
     },
     "execution_count": 3,
     "metadata": {},
     "output_type": "execute_result"
    }
   ],
   "source": [
    "# displaying the few rows of the dataset\n",
    "NCHS_survey_data.head()"
   ]
  },
  {
   "cell_type": "code",
   "execution_count": 4,
   "id": "fd1a5b86",
   "metadata": {},
   "outputs": [
    {
     "data": {
      "text/plain": [
       "array(['Unintentional injuries', 'All causes', \"Alzheimer's disease\",\n",
       "       'Stroke', 'CLRD', 'Diabetes', 'Heart disease',\n",
       "       'Influenza and pneumonia', 'Suicide', 'Cancer', 'Kidney disease'],\n",
       "      dtype=object)"
      ]
     },
     "execution_count": 4,
     "metadata": {},
     "output_type": "execute_result"
    }
   ],
   "source": [
    "# Finding the unique values of the Death Causes\n",
    "NCHS_survey_data['Cause Name'].unique()"
   ]
  },
  {
   "cell_type": "code",
   "execution_count": 5,
   "id": "09fa5eba",
   "metadata": {},
   "outputs": [],
   "source": [
    "# filtering out the dataset based on the year to get the data only for the years between 2010 to 2015. \n",
    "# We are also filtering out the 'All causes' cause from the Cause Name column\n",
    "NCHS_survey_data_adj = NCHS_survey_data[(NCHS_survey_data.Year > 2010) & (NCHS_survey_data.Year < 2015) & (NCHS_survey_data['Cause Name'] != 'All causes') ]"
   ]
  },
  {
   "cell_type": "code",
   "execution_count": 6,
   "id": "515b1d13",
   "metadata": {},
   "outputs": [
    {
     "data": {
      "text/plain": [
       "array(['Unintentional injuries', \"Alzheimer's disease\", 'Stroke', 'CLRD',\n",
       "       'Diabetes', 'Heart disease', 'Influenza and pneumonia', 'Suicide',\n",
       "       'Cancer', 'Kidney disease'], dtype=object)"
      ]
     },
     "execution_count": 6,
     "metadata": {},
     "output_type": "execute_result"
    }
   ],
   "source": [
    "# Finding the unique values of the Death Causes to check if the 'All causes' cause has been filtered out from the column\n",
    "NCHS_survey_data_adj['Cause Name'].unique()"
   ]
  },
  {
   "cell_type": "code",
   "execution_count": 7,
   "id": "f421ea5f",
   "metadata": {},
   "outputs": [],
   "source": [
    "# using altair to plot the bar chart\n",
    "bar_chart =  alt.Chart(NCHS_survey_data_adj[NCHS_survey_data_adj['State'] == 'New York']).mark_bar().encode(\n",
    "  alt.Column('Year:Q'), \n",
    "  alt.X('Cause Name:N', title ='Causes of Death'),  # N is for nominal\n",
    "  alt.Y('average(Deaths):Q', axis=alt.Axis(grid=False), title ='Average Number of Deaths'), # Q is for quantitative\n",
    "  alt.Color('Cause Name:N'),\n",
    "  tooltip=(['average(Deaths):Q'])\n",
    "  ).properties(\n",
    "    title='Causes of Death vs Average Deaths over the years'\n",
    ")"
   ]
  },
  {
   "cell_type": "code",
   "execution_count": 8,
   "id": "da90fa32",
   "metadata": {},
   "outputs": [
    {
     "data": {
      "text/html": [
       "\n",
       "<div id=\"altair-viz-8fa8d19eb7804aa19c594250c706cd47\"></div>\n",
       "<script type=\"text/javascript\">\n",
       "  var VEGA_DEBUG = (typeof VEGA_DEBUG == \"undefined\") ? {} : VEGA_DEBUG;\n",
       "  (function(spec, embedOpt){\n",
       "    let outputDiv = document.currentScript.previousElementSibling;\n",
       "    if (outputDiv.id !== \"altair-viz-8fa8d19eb7804aa19c594250c706cd47\") {\n",
       "      outputDiv = document.getElementById(\"altair-viz-8fa8d19eb7804aa19c594250c706cd47\");\n",
       "    }\n",
       "    const paths = {\n",
       "      \"vega\": \"https://cdn.jsdelivr.net/npm//vega@5?noext\",\n",
       "      \"vega-lib\": \"https://cdn.jsdelivr.net/npm//vega-lib?noext\",\n",
       "      \"vega-lite\": \"https://cdn.jsdelivr.net/npm//vega-lite@4.17.0?noext\",\n",
       "      \"vega-embed\": \"https://cdn.jsdelivr.net/npm//vega-embed@6?noext\",\n",
       "    };\n",
       "\n",
       "    function maybeLoadScript(lib, version) {\n",
       "      var key = `${lib.replace(\"-\", \"\")}_version`;\n",
       "      return (VEGA_DEBUG[key] == version) ?\n",
       "        Promise.resolve(paths[lib]) :\n",
       "        new Promise(function(resolve, reject) {\n",
       "          var s = document.createElement('script');\n",
       "          document.getElementsByTagName(\"head\")[0].appendChild(s);\n",
       "          s.async = true;\n",
       "          s.onload = () => {\n",
       "            VEGA_DEBUG[key] = version;\n",
       "            return resolve(paths[lib]);\n",
       "          };\n",
       "          s.onerror = () => reject(`Error loading script: ${paths[lib]}`);\n",
       "          s.src = paths[lib];\n",
       "        });\n",
       "    }\n",
       "\n",
       "    function showError(err) {\n",
       "      outputDiv.innerHTML = `<div class=\"error\" style=\"color:red;\">${err}</div>`;\n",
       "      throw err;\n",
       "    }\n",
       "\n",
       "    function displayChart(vegaEmbed) {\n",
       "      vegaEmbed(outputDiv, spec, embedOpt)\n",
       "        .catch(err => showError(`Javascript Error: ${err.message}<br>This usually means there's a typo in your chart specification. See the javascript console for the full traceback.`));\n",
       "    }\n",
       "\n",
       "    if(typeof define === \"function\" && define.amd) {\n",
       "      requirejs.config({paths});\n",
       "      require([\"vega-embed\"], displayChart, err => showError(`Error loading script: ${err.message}`));\n",
       "    } else {\n",
       "      maybeLoadScript(\"vega\", \"5\")\n",
       "        .then(() => maybeLoadScript(\"vega-lite\", \"4.17.0\"))\n",
       "        .then(() => maybeLoadScript(\"vega-embed\", \"6\"))\n",
       "        .catch(showError)\n",
       "        .then(() => displayChart(vegaEmbed));\n",
       "    }\n",
       "  })({\"config\": {\"view\": {\"continuousWidth\": 400, \"continuousHeight\": 300}}, \"data\": {\"name\": \"data-bcefc1885fb251c452e0570d744c847f\"}, \"mark\": \"bar\", \"encoding\": {\"color\": {\"field\": \"Cause Name\", \"type\": \"nominal\"}, \"column\": {\"field\": \"Year\", \"type\": \"quantitative\"}, \"tooltip\": [{\"aggregate\": \"average\", \"field\": \"Deaths\", \"type\": \"quantitative\"}], \"x\": {\"field\": \"Cause Name\", \"title\": \"Causes of Death\", \"type\": \"nominal\"}, \"y\": {\"aggregate\": \"average\", \"axis\": {\"grid\": false}, \"field\": \"Deaths\", \"title\": \"Average Number of Deaths\", \"type\": \"quantitative\"}}, \"title\": \"Causes of Death vs Average Deaths over the years\", \"width\": 165, \"$schema\": \"https://vega.github.io/schema/vega-lite/v4.17.0.json\", \"datasets\": {\"data-bcefc1885fb251c452e0570d744c847f\": [{\"Year\": 2014, \"113 Cause Name\": \"Accidents (unintentional injuries) (V01-X59,Y85-Y86)\", \"Cause Name\": \"Unintentional injuries\", \"State\": \"New York\", \"Deaths\": 5945, \"Age-adjusted Death Rate\": 27.6}, {\"Year\": 2014, \"113 Cause Name\": \"Alzheimer's disease (G30)\", \"Cause Name\": \"Alzheimer's disease\", \"State\": \"New York\", \"Deaths\": 2639, \"Age-adjusted Death Rate\": 10.7}, {\"Year\": 2014, \"113 Cause Name\": \"Cerebrovascular diseases (I60-I69)\", \"Cause Name\": \"Stroke\", \"State\": \"New York\", \"Deaths\": 6212, \"Age-adjusted Death Rate\": 26.1}, {\"Year\": 2014, \"113 Cause Name\": \"Chronic lower respiratory diseases (J40-J47)\", \"Cause Name\": \"CLRD\", \"State\": \"New York\", \"Deaths\": 6806, \"Age-adjusted Death Rate\": 29.1}, {\"Year\": 2014, \"113 Cause Name\": \"Diabetes mellitus (E10-E14)\", \"Cause Name\": \"Diabetes\", \"State\": \"New York\", \"Deaths\": 4064, \"Age-adjusted Death Rate\": 17.4}, {\"Year\": 2014, \"113 Cause Name\": \"Diseases of heart (I00-I09,I11,I13,I20-I51)\", \"Cause Name\": \"Heart disease\", \"State\": \"New York\", \"Deaths\": 43116, \"Age-adjusted Death Rate\": 178.3}, {\"Year\": 2014, \"113 Cause Name\": \"Influenza and pneumonia (J09-J18)\", \"Cause Name\": \"Influenza and pneumonia\", \"State\": \"New York\", \"Deaths\": 4702, \"Age-adjusted Death Rate\": 19.5}, {\"Year\": 2014, \"113 Cause Name\": \"Intentional self-harm (suicide) (*U03,X60-X84,Y87.0)\", \"Cause Name\": \"Suicide\", \"State\": \"New York\", \"Deaths\": 1700, \"Age-adjusted Death Rate\": 8.1}, {\"Year\": 2014, \"113 Cause Name\": \"Malignant neoplasms (C00-C97)\", \"Cause Name\": \"Cancer\", \"State\": \"New York\", \"Deaths\": 35392, \"Age-adjusted Death Rate\": 151.8}, {\"Year\": 2014, \"113 Cause Name\": \"Nephritis, nephrotic syndrome and nephrosis (N00-N07,N17-N19,N25-N27)\", \"Cause Name\": \"Kidney disease\", \"State\": \"New York\", \"Deaths\": 2207, \"Age-adjusted Death Rate\": 9.3}, {\"Year\": 2013, \"113 Cause Name\": \"Accidents (unintentional injuries) (V01-X59,Y85-Y86)\", \"Cause Name\": \"Unintentional injuries\", \"State\": \"New York\", \"Deaths\": 5927, \"Age-adjusted Death Rate\": 27.8}, {\"Year\": 2013, \"113 Cause Name\": \"Alzheimer's disease (G30)\", \"Cause Name\": \"Alzheimer's disease\", \"State\": \"New York\", \"Deaths\": 2556, \"Age-adjusted Death Rate\": 10.4}, {\"Year\": 2013, \"113 Cause Name\": \"Cerebrovascular diseases (I60-I69)\", \"Cause Name\": \"Stroke\", \"State\": \"New York\", \"Deaths\": 6176, \"Age-adjusted Death Rate\": 26.3}, {\"Year\": 2013, \"113 Cause Name\": \"Chronic lower respiratory diseases (J40-J47)\", \"Cause Name\": \"CLRD\", \"State\": \"New York\", \"Deaths\": 7110, \"Age-adjusted Death Rate\": 30.7}, {\"Year\": 2013, \"113 Cause Name\": \"Diabetes mellitus (E10-E14)\", \"Cause Name\": \"Diabetes\", \"State\": \"New York\", \"Deaths\": 4094, \"Age-adjusted Death Rate\": 17.8}, {\"Year\": 2013, \"113 Cause Name\": \"Diseases of heart (I00-I09,I11,I13,I20-I51)\", \"Cause Name\": \"Heart disease\", \"State\": \"New York\", \"Deaths\": 44039, \"Age-adjusted Death Rate\": 184.8}, {\"Year\": 2013, \"113 Cause Name\": \"Influenza and pneumonia (J09-J18)\", \"Cause Name\": \"Influenza and pneumonia\", \"State\": \"New York\", \"Deaths\": 4892, \"Age-adjusted Death Rate\": 20.5}, {\"Year\": 2013, \"113 Cause Name\": \"Intentional self-harm (suicide) (*U03,X60-X84,Y87.0)\", \"Cause Name\": \"Suicide\", \"State\": \"New York\", \"Deaths\": 1687, \"Age-adjusted Death Rate\": 8.1}, {\"Year\": 2013, \"113 Cause Name\": \"Malignant neoplasms (C00-C97)\", \"Cause Name\": \"Cancer\", \"State\": \"New York\", \"Deaths\": 35738, \"Age-adjusted Death Rate\": 155.9}, {\"Year\": 2013, \"113 Cause Name\": \"Nephritis, nephrotic syndrome and nephrosis (N00-N07,N17-N19,N25-N27)\", \"Cause Name\": \"Kidney disease\", \"State\": \"New York\", \"Deaths\": 2285, \"Age-adjusted Death Rate\": 9.7}, {\"Year\": 2012, \"113 Cause Name\": \"Accidents (unintentional injuries) (V01-X59,Y85-Y86)\", \"Cause Name\": \"Unintentional injuries\", \"State\": \"New York\", \"Deaths\": 5786, \"Age-adjusted Death Rate\": 27.4}, {\"Year\": 2012, \"113 Cause Name\": \"Alzheimer's disease (G30)\", \"Cause Name\": \"Alzheimer's disease\", \"State\": \"New York\", \"Deaths\": 2640, \"Age-adjusted Death Rate\": 10.9}, {\"Year\": 2012, \"113 Cause Name\": \"Cerebrovascular diseases (I60-I69)\", \"Cause Name\": \"Stroke\", \"State\": \"New York\", \"Deaths\": 6139, \"Age-adjusted Death Rate\": 26.6}, {\"Year\": 2012, \"113 Cause Name\": \"Chronic lower respiratory diseases (J40-J47)\", \"Cause Name\": \"CLRD\", \"State\": \"New York\", \"Deaths\": 7034, \"Age-adjusted Death Rate\": 31.1}, {\"Year\": 2012, \"113 Cause Name\": \"Diabetes mellitus (E10-E14)\", \"Cause Name\": \"Diabetes\", \"State\": \"New York\", \"Deaths\": 4010, \"Age-adjusted Death Rate\": 17.7}, {\"Year\": 2012, \"113 Cause Name\": \"Diseases of heart (I00-I09,I11,I13,I20-I51)\", \"Cause Name\": \"Heart disease\", \"State\": \"New York\", \"Deaths\": 43795, \"Age-adjusted Death Rate\": 186.5}, {\"Year\": 2012, \"113 Cause Name\": \"Influenza and pneumonia (J09-J18)\", \"Cause Name\": \"Influenza and pneumonia\", \"State\": \"New York\", \"Deaths\": 4404, \"Age-adjusted Death Rate\": 18.8}, {\"Year\": 2012, \"113 Cause Name\": \"Intentional self-harm (suicide) (*U03,X60-X84,Y87.0)\", \"Cause Name\": \"Suicide\", \"State\": \"New York\", \"Deaths\": 1708, \"Age-adjusted Death Rate\": 8.3}, {\"Year\": 2012, \"113 Cause Name\": \"Malignant neoplasms (C00-C97)\", \"Cause Name\": \"Cancer\", \"State\": \"New York\", \"Deaths\": 35882, \"Age-adjusted Death Rate\": 159.4}, {\"Year\": 2012, \"113 Cause Name\": \"Nephritis, nephrotic syndrome and nephrosis (N00-N07,N17-N19,N25-N27)\", \"Cause Name\": \"Kidney disease\", \"State\": \"New York\", \"Deaths\": 2240, \"Age-adjusted Death Rate\": 9.8}, {\"Year\": 2011, \"113 Cause Name\": \"Accidents (unintentional injuries) (V01-X59,Y85-Y86)\", \"Cause Name\": \"Unintentional injuries\", \"State\": \"New York\", \"Deaths\": 5537, \"Age-adjusted Death Rate\": 26.4}, {\"Year\": 2011, \"113 Cause Name\": \"Alzheimer's disease (G30)\", \"Cause Name\": \"Alzheimer's disease\", \"State\": \"New York\", \"Deaths\": 2563, \"Age-adjusted Death Rate\": 10.8}, {\"Year\": 2011, \"113 Cause Name\": \"Cerebrovascular diseases (I60-I69)\", \"Cause Name\": \"Stroke\", \"State\": \"New York\", \"Deaths\": 6254, \"Age-adjusted Death Rate\": 27.6}, {\"Year\": 2011, \"113 Cause Name\": \"Chronic lower respiratory diseases (J40-J47)\", \"Cause Name\": \"CLRD\", \"State\": \"New York\", \"Deaths\": 6963, \"Age-adjusted Death Rate\": 31.5}, {\"Year\": 2011, \"113 Cause Name\": \"Diabetes mellitus (E10-E14)\", \"Cause Name\": \"Diabetes\", \"State\": \"New York\", \"Deaths\": 3988, \"Age-adjusted Death Rate\": 18.0}, {\"Year\": 2011, \"113 Cause Name\": \"Diseases of heart (I00-I09,I11,I13,I20-I51)\", \"Cause Name\": \"Heart disease\", \"State\": \"New York\", \"Deaths\": 44501, \"Age-adjusted Death Rate\": 193.8}, {\"Year\": 2011, \"113 Cause Name\": \"Influenza and pneumonia (J09-J18)\", \"Cause Name\": \"Influenza and pneumonia\", \"State\": \"New York\", \"Deaths\": 4915, \"Age-adjusted Death Rate\": 21.4}, {\"Year\": 2011, \"113 Cause Name\": \"Intentional self-harm (suicide) (*U03,X60-X84,Y87.0)\", \"Cause Name\": \"Suicide\", \"State\": \"New York\", \"Deaths\": 1658, \"Age-adjusted Death Rate\": 8.2}, {\"Year\": 2011, \"113 Cause Name\": \"Malignant neoplasms (C00-C97)\", \"Cause Name\": \"Cancer\", \"State\": \"New York\", \"Deaths\": 35469, \"Age-adjusted Death Rate\": 160.6}, {\"Year\": 2011, \"113 Cause Name\": \"Nephritis, nephrotic syndrome and nephrosis (N00-N07,N17-N19,N25-N27)\", \"Cause Name\": \"Kidney disease\", \"State\": \"New York\", \"Deaths\": 2197, \"Age-adjusted Death Rate\": 9.7}]}}, {\"mode\": \"vega-lite\"});\n",
       "</script>"
      ],
      "text/plain": [
       "alt.Chart(...)"
      ]
     },
     "execution_count": 8,
     "metadata": {},
     "output_type": "execute_result"
    }
   ],
   "source": [
    "# display the bar chart\n",
    "bar_chart = bar_chart.properties(width=165)\n",
    "bar_chart"
   ]
  },
  {
   "cell_type": "code",
   "execution_count": 9,
   "id": "0815dea0",
   "metadata": {},
   "outputs": [],
   "source": [
    "# saving the bar chart in a folder\n",
    "myJekyllDir = 'C:/Users/hp/anushri-bhagwath.github.io/assets/json/'"
   ]
  },
  {
   "cell_type": "code",
   "execution_count": 10,
   "id": "77225068",
   "metadata": {},
   "outputs": [],
   "source": [
    "bar_chart.save(myJekyllDir+\"death_causes.json\")"
   ]
  }
 ],
 "metadata": {
  "kernelspec": {
   "display_name": "Python 3 (ipykernel)",
   "language": "python",
   "name": "python3"
  },
  "language_info": {
   "codemirror_mode": {
    "name": "ipython",
    "version": 3
   },
   "file_extension": ".py",
   "mimetype": "text/x-python",
   "name": "python",
   "nbconvert_exporter": "python",
   "pygments_lexer": "ipython3",
   "version": "3.7.12"
  }
 },
 "nbformat": 4,
 "nbformat_minor": 5
}
